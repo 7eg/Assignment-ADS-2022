{
 "cells": [
  {
   "cell_type": "markdown",
   "id": "ad63343b",
   "metadata": {},
   "source": [
    "# Python Basics\n",
    "## Introduction\n",
    "**Jupyter Notebook**"
   ]
  },
  {
   "cell_type": "code",
   "execution_count": 1,
   "id": "9a3a30c9",
   "metadata": {},
   "outputs": [
    {
     "name": "stdout",
     "output_type": "stream",
     "text": [
      "Hello\n"
     ]
    }
   ],
   "source": [
    "print('Hello')"
   ]
  },
  {
   "cell_type": "code",
   "execution_count": 1,
   "id": "8205108a",
   "metadata": {},
   "outputs": [
    {
     "name": "stdout",
     "output_type": "stream",
     "text": [
      "My name is  Abdulaziz\n"
     ]
    }
   ],
   "source": [
    "name = input(\"Enter your name\")\n",
    "print(\"My name is \",name)"
   ]
  },
  {
   "cell_type": "code",
   "execution_count": 9,
   "id": "68d016b1",
   "metadata": {},
   "outputs": [
    {
     "data": {
      "text/plain": [
       "0"
      ]
     },
     "execution_count": 9,
     "metadata": {},
     "output_type": "execute_result"
    }
   ],
   "source": [
    "45670%10"
   ]
  },
  {
   "cell_type": "code",
   "execution_count": 2,
   "id": "fdcf5b45",
   "metadata": {},
   "outputs": [
    {
     "name": "stdout",
     "output_type": "stream",
     "text": [
      "Enter a number34\n",
      "34  not ends with 6\n"
     ]
    }
   ],
   "source": [
    "n = int(input('Enter a number'))# input fn default val is str\n",
    "if n%10 == 6:\n",
    "    print(n,\" ends with 6\")\n",
    "else:\n",
    "    print(n,' not ends with 6')\n",
    "    "
   ]
  },
  {
   "cell_type": "code",
   "execution_count": 2,
   "id": "6eadc497",
   "metadata": {},
   "outputs": [
    {
     "name": "stdout",
     "output_type": "stream",
     "text": [
      "1\n",
      "2\n",
      "3\n",
      "4\n",
      "5\n",
      "end\n"
     ]
    }
   ],
   "source": [
    "# print nos from 1 to 5\n",
    "i = 1\n",
    "while i<=5:\n",
    "    print(i)\n",
    "    i= i+1\n",
    "print('end')\n"
   ]
  },
  {
   "cell_type": "code",
   "execution_count": null,
   "id": "b926c4ae",
   "metadata": {},
   "outputs": [],
   "source": [
    "\n",
    "n = input()\n",
    "\n",
    "while n<=5:\n",
    "    print(n)\n",
    "    n= n+1\n",
    "print('end')\n"
   ]
  },
  {
   "cell_type": "code",
   "execution_count": 3,
   "id": "74569790",
   "metadata": {},
   "outputs": [
    {
     "name": "stdout",
     "output_type": "stream",
     "text": [
      "1\n",
      "2\n",
      "3\n",
      "4\n",
      "5\n"
     ]
    }
   ],
   "source": [
    "#        [1,2,3,4,5]\n",
    "for i in range(1,6):\n",
    "    print(i)"
   ]
  },
  {
   "cell_type": "code",
   "execution_count": 4,
   "id": "47dc0e0b",
   "metadata": {},
   "outputs": [
    {
     "name": "stdout",
     "output_type": "stream",
     "text": [
      "0\n",
      "1\n",
      "2\n",
      "3\n",
      "4\n",
      "5\n"
     ]
    }
   ],
   "source": [
    "for i in range(6):\n",
    "    print(i)"
   ]
  },
  {
   "cell_type": "code",
   "execution_count": 5,
   "id": "438326f8",
   "metadata": {},
   "outputs": [
    {
     "name": "stdout",
     "output_type": "stream",
     "text": [
      "2\n",
      "4\n",
      "6\n",
      "8\n",
      "10\n"
     ]
    }
   ],
   "source": [
    "for i in range(2,11,2):\n",
    "    print(i)"
   ]
  },
  {
   "cell_type": "code",
   "execution_count": 6,
   "id": "86efe400",
   "metadata": {},
   "outputs": [
    {
     "name": "stdout",
     "output_type": "stream",
     "text": [
      "10\n",
      "8\n",
      "6\n",
      "4\n",
      "2\n"
     ]
    }
   ],
   "source": [
    "for i in range(10,1,-2):\n",
    "    print(i)"
   ]
  },
  {
   "cell_type": "markdown",
   "id": "14822a95",
   "metadata": {},
   "source": [
    "## Functions"
   ]
  },
  {
   "cell_type": "code",
   "execution_count": 8,
   "id": "686bc3ff",
   "metadata": {},
   "outputs": [],
   "source": [
    "def add(n1,n2):\n",
    "    s = n1+n2\n",
    "    return s"
   ]
  },
  {
   "cell_type": "code",
   "execution_count": 9,
   "id": "ca682b46",
   "metadata": {},
   "outputs": [
    {
     "data": {
      "text/plain": [
       "30"
      ]
     },
     "execution_count": 9,
     "metadata": {},
     "output_type": "execute_result"
    }
   ],
   "source": [
    "add(10,20)"
   ]
  },
  {
   "cell_type": "code",
   "execution_count": 10,
   "id": "173a550f",
   "metadata": {},
   "outputs": [],
   "source": [
    "# create a function neg\n",
    "# returns the negated value\n",
    "# neg(4)--> -4\n",
    "# neg(-2) --> 2\n",
    "def neg(n):\n",
    "    return -n"
   ]
  },
  {
   "cell_type": "code",
   "execution_count": 11,
   "id": "48af5f59",
   "metadata": {},
   "outputs": [
    {
     "data": {
      "text/plain": [
       "-6"
      ]
     },
     "execution_count": 11,
     "metadata": {},
     "output_type": "execute_result"
    }
   ],
   "source": [
    "neg(6)"
   ]
  },
  {
   "cell_type": "code",
   "execution_count": 12,
   "id": "2e0be216",
   "metadata": {},
   "outputs": [
    {
     "data": {
      "text/plain": [
       "4"
      ]
     },
     "execution_count": 12,
     "metadata": {},
     "output_type": "execute_result"
    }
   ],
   "source": [
    "neg(-4)"
   ]
  },
  {
   "cell_type": "markdown",
   "id": "62421809",
   "metadata": {},
   "source": [
    "## Lambda Function"
   ]
  },
  {
   "cell_type": "code",
   "execution_count": 13,
   "id": "7ed12fe8",
   "metadata": {},
   "outputs": [],
   "source": [
    "# one line function\n",
    "# lambda par:calc\n",
    "lam = lambda n:-n"
   ]
  },
  {
   "cell_type": "code",
   "execution_count": 14,
   "id": "5fbb2704",
   "metadata": {},
   "outputs": [
    {
     "data": {
      "text/plain": [
       "3"
      ]
     },
     "execution_count": 14,
     "metadata": {},
     "output_type": "execute_result"
    }
   ],
   "source": [
    "lam(-3)"
   ]
  },
  {
   "cell_type": "code",
   "execution_count": 15,
   "id": "f006a015",
   "metadata": {},
   "outputs": [
    {
     "data": {
      "text/plain": [
       "-6"
      ]
     },
     "execution_count": 15,
     "metadata": {},
     "output_type": "execute_result"
    }
   ],
   "source": [
    "(lambda n:-n)(6)"
   ]
  },
  {
   "cell_type": "code",
   "execution_count": 16,
   "id": "bd459bac",
   "metadata": {},
   "outputs": [
    {
     "data": {
      "text/plain": [
       "24"
      ]
     },
     "execution_count": 16,
     "metadata": {},
     "output_type": "execute_result"
    }
   ],
   "source": [
    "(lambda n1,n2:n1+n2)(10,14)"
   ]
  },
  {
   "cell_type": "code",
   "execution_count": 2,
   "id": "fedfb7fa",
   "metadata": {},
   "outputs": [],
   "source": [
    "ltest = (lambda n1,n2:n1+n2)"
   ]
  },
  {
   "cell_type": "code",
   "execution_count": 3,
   "id": "2c99ba23",
   "metadata": {},
   "outputs": [
    {
     "data": {
      "text/plain": [
       "5"
      ]
     },
     "execution_count": 3,
     "metadata": {},
     "output_type": "execute_result"
    }
   ],
   "source": [
    "ltest(2,3)"
   ]
  },
  {
   "cell_type": "code",
   "execution_count": 18,
   "id": "284e5ccf",
   "metadata": {},
   "outputs": [
    {
     "data": {
      "text/plain": [
       "10"
      ]
     },
     "execution_count": 18,
     "metadata": {},
     "output_type": "execute_result"
    }
   ],
   "source": [
    "# create a lambda function to find \n",
    "# biggest of 2 nos\n",
    "10 if 10 < 20 else 20"
   ]
  },
  {
   "cell_type": "code",
   "execution_count": 21,
   "id": "39fbcc7e",
   "metadata": {},
   "outputs": [
    {
     "data": {
      "text/plain": [
       "200"
      ]
     },
     "execution_count": 21,
     "metadata": {},
     "output_type": "execute_result"
    }
   ],
   "source": [
    "(lambda x,y:x if x > y else y)(100,200)"
   ]
  },
  {
   "cell_type": "code",
   "execution_count": 4,
   "id": "e105bf0d",
   "metadata": {},
   "outputs": [],
   "source": [
    "flam = lambda n1,n2:n1 if n1>n2 else n2"
   ]
  },
  {
   "cell_type": "code",
   "execution_count": 5,
   "id": "26b9147d",
   "metadata": {},
   "outputs": [
    {
     "data": {
      "text/plain": [
       "3"
      ]
     },
     "execution_count": 5,
     "metadata": {},
     "output_type": "execute_result"
    }
   ],
   "source": [
    "flam(2,3)"
   ]
  },
  {
   "cell_type": "code",
   "execution_count": 6,
   "id": "d4e7bcf7",
   "metadata": {},
   "outputs": [
    {
     "data": {
      "text/plain": [
       "20"
      ]
     },
     "execution_count": 6,
     "metadata": {},
     "output_type": "execute_result"
    }
   ],
   "source": [
    "n1 = int(input('Enter n1 '))\n",
    "n2 = int(input('Enter n2 '))\n",
    "\n",
    "flam(n1,n2)"
   ]
  }
 ],
 "metadata": {
  "kernelspec": {
   "display_name": "Python 3.10.7 64-bit (microsoft store)",
   "language": "python",
   "name": "python3"
  },
  "language_info": {
   "codemirror_mode": {
    "name": "ipython",
    "version": 3
   },
   "file_extension": ".py",
   "mimetype": "text/x-python",
   "name": "python",
   "nbconvert_exporter": "python",
   "pygments_lexer": "ipython3",
   "version": "3.10.7"
  },
  "vscode": {
   "interpreter": {
    "hash": "8e0303d3b960ee91481b6dcba3f1667bc029c5c0d0d4ad12e44abb021d70bd9e"
   }
  }
 },
 "nbformat": 4,
 "nbformat_minor": 5
}
