{
 "cells": [
  {
   "cell_type": "markdown",
   "metadata": {
    "id": "XtOtFQ71uoCp"
   },
   "source": [
    " ## Dictionary  -  { key: value}\n",
    "\n",
    "*   Collection of Objects\n",
    "*   Use key-value pairs separated by comma\n",
    "*   Unique Keys\n",
    "*   Mutable\n",
    "\n",
    "\n",
    "\n",
    "\n",
    "\n",
    "\n",
    "\n"
   ]
  },
  {
   "cell_type": "markdown",
   "metadata": {
    "id": "d3a_0UdkWJdU"
   },
   "source": [
    "## Creating a dictionary"
   ]
  },
  {
   "cell_type": "code",
   "execution_count": 1,
   "metadata": {
    "id": "qPQvB514uYYP"
   },
   "outputs": [
    {
     "name": "stdout",
     "output_type": "stream",
     "text": [
      "{}\n",
      "<class 'dict'>\n"
     ]
    }
   ],
   "source": [
    "d = {}\n",
    "print(d)\n",
    "print(type(d))"
   ]
  },
  {
   "cell_type": "code",
   "execution_count": 2,
   "metadata": {
    "id": "tQaqgnD4WPOy"
   },
   "outputs": [
    {
     "data": {
      "text/plain": [
       "{1: 'A', 2: 'B', 3: 'C', 4: 'D'}"
      ]
     },
     "execution_count": 2,
     "metadata": {},
     "output_type": "execute_result"
    }
   ],
   "source": [
    "d1 = {1:'A',2:'B',3:'C',4:\"D\"}\n",
    "d1"
   ]
  },
  {
   "cell_type": "code",
   "execution_count": 3,
   "metadata": {},
   "outputs": [
    {
     "data": {
      "text/plain": [
       "{'A': 100, 20: 2.5, 'Q': True, 2.5: 500, 'W': [1, 2, 3]}"
      ]
     },
     "execution_count": 3,
     "metadata": {},
     "output_type": "execute_result"
    }
   ],
   "source": [
    "d2 = {'A':100,20:2.5,'Q':True,2.5:500,'W':[1,2,3]}\n",
    "d2"
   ]
  },
  {
   "cell_type": "code",
   "execution_count": 5,
   "metadata": {},
   "outputs": [
    {
     "data": {
      "text/plain": [
       "{1: 500, 2: 200, 3: 500}"
      ]
     },
     "execution_count": 5,
     "metadata": {},
     "output_type": "execute_result"
    }
   ],
   "source": [
    "d3 = {1:100,2:200,1:500,3:500}\n",
    "d3"
   ]
  },
  {
   "cell_type": "markdown",
   "metadata": {
    "id": "s48JSduSWOCd"
   },
   "source": [
    "## Access values using key"
   ]
  },
  {
   "cell_type": "code",
   "execution_count": 6,
   "metadata": {
    "id": "XnnOmW5ev3XW"
   },
   "outputs": [
    {
     "data": {
      "text/plain": [
       "{1: 'A', 2: 'B', 3: 'C', 4: 'D'}"
      ]
     },
     "execution_count": 6,
     "metadata": {},
     "output_type": "execute_result"
    }
   ],
   "source": [
    "d1"
   ]
  },
  {
   "cell_type": "code",
   "execution_count": 7,
   "metadata": {},
   "outputs": [
    {
     "data": {
      "text/plain": [
       "'C'"
      ]
     },
     "execution_count": 7,
     "metadata": {},
     "output_type": "execute_result"
    }
   ],
   "source": [
    "d1[3]"
   ]
  },
  {
   "cell_type": "markdown",
   "metadata": {
    "id": "P6PwvDK5WQa1"
   },
   "source": [
    "## Access values using get()  (dict.get(key))"
   ]
  },
  {
   "cell_type": "code",
   "execution_count": 8,
   "metadata": {
    "id": "51aPU8Veweye"
   },
   "outputs": [
    {
     "data": {
      "text/plain": [
       "'D'"
      ]
     },
     "execution_count": 8,
     "metadata": {},
     "output_type": "execute_result"
    }
   ],
   "source": [
    "d1.get(4)\n"
   ]
  },
  {
   "cell_type": "markdown",
   "metadata": {
    "id": "ed8LCJoEWUI-"
   },
   "source": [
    "## Access key and value as pairs (d.items())"
   ]
  },
  {
   "cell_type": "code",
   "execution_count": 9,
   "metadata": {
    "id": "S5fQgXjAwxj2",
    "scrolled": true
   },
   "outputs": [
    {
     "data": {
      "text/plain": [
       "dict_items([(1, 'A'), (2, 'B'), (3, 'C'), (4, 'D')])"
      ]
     },
     "execution_count": 9,
     "metadata": {},
     "output_type": "execute_result"
    }
   ],
   "source": [
    "d1.items()"
   ]
  },
  {
   "cell_type": "markdown",
   "metadata": {
    "id": "vR69etshWWme"
   },
   "source": [
    "## Access only the keys (d.keys())"
   ]
  },
  {
   "cell_type": "code",
   "execution_count": 10,
   "metadata": {
    "id": "5INkXQrJw3RS"
   },
   "outputs": [
    {
     "data": {
      "text/plain": [
       "dict_keys([1, 2, 3, 4])"
      ]
     },
     "execution_count": 10,
     "metadata": {},
     "output_type": "execute_result"
    }
   ],
   "source": [
    "d1.keys()"
   ]
  },
  {
   "cell_type": "markdown",
   "metadata": {
    "id": "-tvYz9AwWYeW"
   },
   "source": [
    "## Access only the values (d.values())"
   ]
  },
  {
   "cell_type": "code",
   "execution_count": 11,
   "metadata": {
    "id": "EGQoMs8yxqxD"
   },
   "outputs": [
    {
     "data": {
      "text/plain": [
       "dict_values(['A', 'B', 'C', 'D'])"
      ]
     },
     "execution_count": 11,
     "metadata": {},
     "output_type": "execute_result"
    }
   ],
   "source": [
    "d1.values()"
   ]
  },
  {
   "cell_type": "markdown",
   "metadata": {
    "id": "xPKKY8SCWa12"
   },
   "source": [
    "## Access keys and/or values using loop"
   ]
  },
  {
   "cell_type": "code",
   "execution_count": 13,
   "metadata": {
    "id": "Cb2I0pqmymay"
   },
   "outputs": [
    {
     "name": "stdout",
     "output_type": "stream",
     "text": [
      "1\n",
      "2\n",
      "3\n",
      "4\n"
     ]
    }
   ],
   "source": [
    "# dict_keys([1, 2, 3, 4]\n",
    "for i in d1.keys():\n",
    "    print(i)"
   ]
  },
  {
   "cell_type": "code",
   "execution_count": 14,
   "metadata": {},
   "outputs": [
    {
     "name": "stdout",
     "output_type": "stream",
     "text": [
      "1\n",
      "2\n",
      "3\n",
      "4\n"
     ]
    }
   ],
   "source": [
    "for i in d1:\n",
    "    print(i)"
   ]
  },
  {
   "cell_type": "code",
   "execution_count": 15,
   "metadata": {},
   "outputs": [
    {
     "name": "stdout",
     "output_type": "stream",
     "text": [
      "A\n",
      "B\n",
      "C\n",
      "D\n"
     ]
    }
   ],
   "source": [
    "for v in d1.values():\n",
    "    print(v)"
   ]
  },
  {
   "cell_type": "code",
   "execution_count": 16,
   "metadata": {},
   "outputs": [
    {
     "data": {
      "text/plain": [
       "{1: 'A', 2: 'B', 3: 'C', 4: 'D'}"
      ]
     },
     "execution_count": 16,
     "metadata": {},
     "output_type": "execute_result"
    }
   ],
   "source": [
    "d1"
   ]
  },
  {
   "cell_type": "code",
   "execution_count": 21,
   "metadata": {},
   "outputs": [
    {
     "name": "stdout",
     "output_type": "stream",
     "text": [
      "key 1 value is A\n",
      "key 2 value is B\n",
      "key 3 value is C\n",
      "key 4 value is D\n"
     ]
    }
   ],
   "source": [
    "for k,v in d1.items():\n",
    "    print(f\"key {k} value is {v}\")"
   ]
  },
  {
   "cell_type": "markdown",
   "metadata": {
    "id": "Hb5TAyIfWej2"
   },
   "source": [
    "## inserting new item or updating existing item using \"keys\""
   ]
  },
  {
   "cell_type": "code",
   "execution_count": 23,
   "metadata": {
    "id": "zbHv-8aSzJ1t"
   },
   "outputs": [
    {
     "data": {
      "text/plain": [
       "{1: 500, 2: 200, 3: 500, 5: 600}"
      ]
     },
     "execution_count": 23,
     "metadata": {},
     "output_type": "execute_result"
    }
   ],
   "source": [
    "d3[5] = 600\n",
    "d3"
   ]
  },
  {
   "cell_type": "code",
   "execution_count": 24,
   "metadata": {},
   "outputs": [
    {
     "data": {
      "text/plain": [
       "{1: 500, 2: 400, 3: 500, 5: 600}"
      ]
     },
     "execution_count": 24,
     "metadata": {},
     "output_type": "execute_result"
    }
   ],
   "source": [
    "d3[2] = 400\n",
    "d3"
   ]
  },
  {
   "cell_type": "markdown",
   "metadata": {
    "id": "pbXKtAAuWhal"
   },
   "source": [
    "## inserting new items or updating existing items using (d.update({k:v pairs}))"
   ]
  },
  {
   "cell_type": "code",
   "execution_count": 25,
   "metadata": {
    "id": "CIm1Ysbazrz7"
   },
   "outputs": [
    {
     "data": {
      "text/plain": [
       "{1: 1000, 2: 400, 3: 500, 5: 600, 6: 700, 8: 800}"
      ]
     },
     "execution_count": 25,
     "metadata": {},
     "output_type": "execute_result"
    }
   ],
   "source": [
    "d3.update({6:700,8:800,1:1000})\n",
    "d3"
   ]
  },
  {
   "cell_type": "markdown",
   "metadata": {
    "id": "0vmtOUc2Wjvd"
   },
   "source": [
    "## Delete the last inserted K-v pair (d.popitem())"
   ]
  },
  {
   "cell_type": "code",
   "execution_count": 26,
   "metadata": {
    "id": "p2wC4RBR9LGw"
   },
   "outputs": [
    {
     "data": {
      "text/plain": [
       "(8, 800)"
      ]
     },
     "execution_count": 26,
     "metadata": {},
     "output_type": "execute_result"
    }
   ],
   "source": [
    "d3.popitem()"
   ]
  },
  {
   "cell_type": "code",
   "execution_count": 27,
   "metadata": {},
   "outputs": [
    {
     "data": {
      "text/plain": [
       "{1: 1000, 2: 400, 3: 500, 5: 600, 6: 700}"
      ]
     },
     "execution_count": 27,
     "metadata": {},
     "output_type": "execute_result"
    }
   ],
   "source": [
    "d3"
   ]
  },
  {
   "cell_type": "markdown",
   "metadata": {
    "id": "gWGbVa5OWmi_"
   },
   "source": [
    "## Delete using key (d.pop(key)) or del"
   ]
  },
  {
   "cell_type": "code",
   "execution_count": 28,
   "metadata": {
    "id": "llHPmyLh-L3p"
   },
   "outputs": [
    {
     "data": {
      "text/plain": [
       "500"
      ]
     },
     "execution_count": 28,
     "metadata": {},
     "output_type": "execute_result"
    }
   ],
   "source": [
    "d3.pop(3)"
   ]
  },
  {
   "cell_type": "code",
   "execution_count": 29,
   "metadata": {},
   "outputs": [
    {
     "data": {
      "text/plain": [
       "{1: 1000, 2: 400, 5: 600, 6: 700}"
      ]
     },
     "execution_count": 29,
     "metadata": {},
     "output_type": "execute_result"
    }
   ],
   "source": [
    "d3"
   ]
  },
  {
   "cell_type": "code",
   "execution_count": 30,
   "metadata": {},
   "outputs": [
    {
     "data": {
      "text/plain": [
       "{1: 1000, 2: 400, 6: 700}"
      ]
     },
     "execution_count": 30,
     "metadata": {},
     "output_type": "execute_result"
    }
   ],
   "source": [
    "del(d3[5])\n",
    "d3"
   ]
  },
  {
   "cell_type": "markdown",
   "metadata": {
    "id": "E-jPxe_nWsX-"
   },
   "source": [
    "## Test a key is in dictionary using \"in\""
   ]
  },
  {
   "cell_type": "code",
   "execution_count": 31,
   "metadata": {
    "id": "u0UBFtjnBMsb"
   },
   "outputs": [
    {
     "data": {
      "text/plain": [
       "{1: 1000, 2: 400, 6: 700}"
      ]
     },
     "execution_count": 31,
     "metadata": {},
     "output_type": "execute_result"
    }
   ],
   "source": [
    "d3"
   ]
  },
  {
   "cell_type": "code",
   "execution_count": 32,
   "metadata": {
    "id": "S3L-ovjm-Iw1"
   },
   "outputs": [
    {
     "data": {
      "text/plain": [
       "True"
      ]
     },
     "execution_count": 32,
     "metadata": {},
     "output_type": "execute_result"
    }
   ],
   "source": [
    "2 in d3"
   ]
  },
  {
   "cell_type": "code",
   "execution_count": 33,
   "metadata": {},
   "outputs": [
    {
     "data": {
      "text/plain": [
       "True"
      ]
     },
     "execution_count": 33,
     "metadata": {},
     "output_type": "execute_result"
    }
   ],
   "source": [
    "2 in d3.keys()"
   ]
  },
  {
   "cell_type": "code",
   "execution_count": 34,
   "metadata": {},
   "outputs": [
    {
     "data": {
      "text/plain": [
       "True"
      ]
     },
     "execution_count": 34,
     "metadata": {},
     "output_type": "execute_result"
    }
   ],
   "source": [
    "700 in d3.values()"
   ]
  },
  {
   "cell_type": "code",
   "execution_count": 36,
   "metadata": {},
   "outputs": [
    {
     "name": "stdout",
     "output_type": "stream",
     "text": [
      "Enter val for n6\n",
      "{1: 1, 2: 4, 3: 9, 4: 16, 5: 25, 6: 36}\n"
     ]
    }
   ],
   "source": [
    "# Read value for n\n",
    "# Create dictionary with n KV pairs\n",
    "# Key start from 1 to n and value is its square\n",
    "# n =4\n",
    "# {1:1,2:4,3:9,4:16}\n",
    "d = {}\n",
    "n = int(input('Enter val for n'))\n",
    "for i in range(1,n+1):\n",
    "    d[i] = i ** 2\n",
    "print(d)\n",
    "    "
   ]
  },
  {
   "cell_type": "code",
   "execution_count": 43,
   "metadata": {},
   "outputs": [
    {
     "name": "stdout",
     "output_type": "stream",
     "text": [
      "{'d': 'Applied', 'a': 'Data', 'e': 'Course'}\n"
     ]
    }
   ],
   "source": [
    "# Create a dictionary to store the words \n",
    "# of the given string as value\n",
    "# and the first char as the key\n",
    "# \"Applied Data Science Course\"\n",
    "# {'A':\"Applied\",'D':'Data','S':'Science','C':'Course'}\n",
    "st = \"Applied Data Science Course\"\n",
    "dic={}\n",
    "for w in st.split():\n",
    "    dic[w[-1]]=w\n",
    "print(dic)   "
   ]
  },
  {
   "cell_type": "code",
   "execution_count": 3,
   "metadata": {},
   "outputs": [
    {
     "name": "stdout",
     "output_type": "stream",
     "text": [
      "{'d': 'Applied', 'a': 'Data', 'e': 'Course'}\n"
     ]
    }
   ],
   "source": [
    "# Create a dictionary to store the words \n",
    "# of the given string as value\n",
    "# and the first char as the key\n",
    "# \"Applied Data Science Course\"\n",
    "# {'A':\"Applied\",'D':'Data','S':'Science','C':'Course'}\n",
    "st = \"Applied Data Science Course\"\n",
    "dic={}\n",
    "for w in st.split():\n",
    "    dic[w[-1]]=w\n",
    "print(dic)   "
   ]
  },
  {
   "cell_type": "code",
   "execution_count": 41,
   "metadata": {},
   "outputs": [
    {
     "data": {
      "text/plain": [
       "['Applied', 'Data', 'Science', 'Course']"
      ]
     },
     "execution_count": 41,
     "metadata": {},
     "output_type": "execute_result"
    }
   ],
   "source": [
    "st.split()"
   ]
  },
  {
   "cell_type": "code",
   "execution_count": 13,
   "metadata": {},
   "outputs": [
    {
     "name": "stdout",
     "output_type": "stream",
     "text": [
      "['Course', 'Science', 'Data', 'Applied']\n"
     ]
    }
   ],
   "source": [
    "# consider a dict\n",
    "# {'A':\"Applied\",'D':'Data','S':'Science','C':'Course'}\n",
    "# Read the key to search\n",
    "# if key present display all values in opposite order\n",
    "dic = {'A':\"Applied\",'D':'Data','S':'Science','C':'Course'}\n",
    "s = input('Enter key to search')\n",
    "if s in dic:\n",
    "    l = list(dic.values())\n",
    "    print(l[::-1])\n",
    "else:\n",
    "    print('Search key not present')"
   ]
  },
  {
   "cell_type": "code",
   "execution_count": 44,
   "metadata": {},
   "outputs": [
    {
     "data": {
      "text/plain": [
       "[3, 20, 1]"
      ]
     },
     "execution_count": 44,
     "metadata": {},
     "output_type": "execute_result"
    }
   ],
   "source": [
    "li = [1,20,3]\n",
    "li[::-1]"
   ]
  },
  {
   "cell_type": "code",
   "execution_count": 14,
   "metadata": {},
   "outputs": [
    {
     "name": "stdout",
     "output_type": "stream",
     "text": [
      "A is in the dictionary \n",
      "['Course', 'Science', 'Data', 'Applied']\n"
     ]
    }
   ],
   "source": [
    "# consider a dict\n",
    "# {'A':\"Applied\",'D':'Data','S':'Science','C':'Course'}\n",
    "# Read the key to search\n",
    "# if key present display all values in opposite order\n",
    "\n",
    "d = {'A':\"Applied\",'D':'Data','S':'Science','C':'Course'}\n",
    "s = input('Enter search value')\n",
    "li = []\n",
    "if s in d.keys():\n",
    "    print(s, 'is in the dictionary ')\n",
    "    li =  list(d.values())\n",
    "    print(li[::-1])\n",
    "else:\n",
    "    print(s, 'is not in the dictionary')"
   ]
  },
  {
   "cell_type": "code",
   "execution_count": 2,
   "metadata": {},
   "outputs": [
    {
     "data": {
      "text/plain": [
       "{2, 3, 4}"
      ]
     },
     "execution_count": 2,
     "metadata": {},
     "output_type": "execute_result"
    }
   ],
   "source": [
    "tu = (9,1)\n",
    "sett = {2,3}\n",
    "sett2 = {4,2}\n",
    "listt = [12,3]\n",
    "listt2 = [19,18]\n",
    "type(tu)\n",
    "type(sett)\n",
    "type(listt)\n",
    "\n",
    "# listt.append(9)\n",
    "# listt\n",
    "# listt.extend([12,13])\n",
    "# listt.insert(1,99)\n",
    "# listt.sort(reverse=True)\n",
    "# listt\n",
    "# sett.union(tu)\n",
    "# sett.intersection(listt)\n",
    "\n",
    "sett | sett2\n"
   ]
  },
  {
   "cell_type": "code",
   "execution_count": 44,
   "metadata": {},
   "outputs": [
    {
     "name": "stdout",
     "output_type": "stream",
     "text": [
      "Al-hattali\n"
     ]
    }
   ],
   "source": [
    "a= ''\n",
    "ap =['Al','-ha','tta','li']\n",
    "for i in ap[::-1]:\n",
    "    a = i + a\n",
    "    \n",
    "print(a)"
   ]
  },
  {
   "cell_type": "code",
   "execution_count": 50,
   "metadata": {},
   "outputs": [
    {
     "name": "stdout",
     "output_type": "stream",
     "text": [
      "15\n"
     ]
    }
   ],
   "source": [
    "a = 0\n",
    "d = {1:'A',2:'B',3:'C',4:'D',5:'E'}\n",
    "\n",
    "print(sum(d.keys()))"
   ]
  },
  {
   "cell_type": "code",
   "execution_count": 5,
   "metadata": {},
   "outputs": [
    {
     "name": "stdout",
     "output_type": "stream",
     "text": [
      "34.7\n",
      "38.9\n",
      "35.4\n",
      "36.5\n"
     ]
    }
   ],
   "source": [
    "Tempreture = [36.5,35.4,38.9,34.7]\n",
    "\n",
    "for i in Tempreture[::-1]:\n",
    "    print(i)"
   ]
  },
  {
   "cell_type": "code",
   "execution_count": 11,
   "metadata": {},
   "outputs": [],
   "source": [
    "\n",
    "def ap(st):\n",
    "    if len(st) % 2 !=0:\n",
    "        return st[-1]\n",
    "    else:\n",
    "        return st[0]\n"
   ]
  },
  {
   "cell_type": "code",
   "execution_count": 13,
   "metadata": {},
   "outputs": [
    {
     "data": {
      "text/plain": [
       "'h'"
      ]
     },
     "execution_count": 13,
     "metadata": {},
     "output_type": "execute_result"
    }
   ],
   "source": [
    "ap('help')"
   ]
  },
  {
   "cell_type": "code",
   "execution_count": 14,
   "metadata": {},
   "outputs": [
    {
     "data": {
      "text/plain": [
       "'e'"
      ]
     },
     "execution_count": 14,
     "metadata": {},
     "output_type": "execute_result"
    }
   ],
   "source": [
    "ap('helpe')"
   ]
  },
  {
   "cell_type": "code",
   "execution_count": 22,
   "metadata": {},
   "outputs": [
    {
     "name": "stdout",
     "output_type": "stream",
     "text": [
      "this is key 1 ,and this is value a\n",
      "this is key 2 ,and this is value b\n",
      "this is key 3 ,and this is value c\n"
     ]
    }
   ],
   "source": [
    "aop = {1:'a',2:'b',3:'c'}\n",
    "\n",
    "for i,v in aop.items():\n",
    "    print(f'this is key {i} ,and this is value {v}')"
   ]
  },
  {
   "cell_type": "code",
   "execution_count": 35,
   "metadata": {},
   "outputs": [
    {
     "name": "stdout",
     "output_type": "stream",
     "text": [
      "{1: 1, 2: 4, 3: 9}\n"
     ]
    }
   ],
   "source": [
    "aop = {1:'a',2:'b',3:'c'}\n",
    "\n",
    "for i in aop.keys():\n",
    "    aop[i] = i**2\n",
    "    \n",
    "print(aop)\n",
    "\n",
    "# d = {}\n",
    "# n = int(input('Enter val for n'))\n",
    "# for i in range(1,n+1):\n",
    "#     d[i] = i ** 2\n",
    "# print(d)"
   ]
  },
  {
   "cell_type": "code",
   "execution_count": 2,
   "metadata": {},
   "outputs": [
    {
     "data": {
      "text/plain": [
       "{1: 'a', 2: 'b', 3: 'c'}"
      ]
     },
     "execution_count": 2,
     "metadata": {},
     "output_type": "execute_result"
    }
   ],
   "source": [
    "aop = {1:'a',2:'b',3:'c'}\n",
    "aop"
   ]
  },
  {
   "cell_type": "code",
   "execution_count": 40,
   "metadata": {},
   "outputs": [],
   "source": [
    "\n",
    "def opi(st):\n",
    "    if len(st)%2 == 0:\n",
    "        return st[-1]\n",
    "    else:\n",
    "        return st[0]"
   ]
  },
  {
   "cell_type": "code",
   "execution_count": 42,
   "metadata": {},
   "outputs": [
    {
     "data": {
      "text/plain": [
       "'h'"
      ]
     },
     "execution_count": 42,
     "metadata": {},
     "output_type": "execute_result"
    }
   ],
   "source": [
    "opi('helpe')"
   ]
  },
  {
   "cell_type": "code",
   "execution_count": 10,
   "metadata": {},
   "outputs": [],
   "source": [
    "aopq = {'A':'a','B':'b','C':'c'}\n",
    "aopq['D'] = 'd'"
   ]
  },
  {
   "cell_type": "code",
   "execution_count": 16,
   "metadata": {},
   "outputs": [
    {
     "data": {
      "text/plain": [
       "[36.5, 35.4, 38.9, 34.7, 7.0]"
      ]
     },
     "execution_count": 16,
     "metadata": {},
     "output_type": "execute_result"
    }
   ],
   "source": [
    "Temp = [36.5,35.4,38.9,34.7]\n",
    "Temp.append(7.)\n",
    "Temp"
   ]
  },
  {
   "cell_type": "code",
   "execution_count": 17,
   "metadata": {},
   "outputs": [
    {
     "data": {
      "text/plain": [
       "[36.5, 35.4, 38.9, 34.7, 7.0]"
      ]
     },
     "execution_count": 17,
     "metadata": {},
     "output_type": "execute_result"
    }
   ],
   "source": [
    "Temp"
   ]
  },
  {
   "cell_type": "code",
   "execution_count": 20,
   "metadata": {},
   "outputs": [
    {
     "data": {
      "text/plain": [
       "{1, 3, 4, 5}"
      ]
     },
     "execution_count": 20,
     "metadata": {},
     "output_type": "execute_result"
    }
   ],
   "source": [
    "a = [1,2,3,4,5]\n",
    "b = [2,6,7,8,9]\n",
    "\n"
   ]
  }
 ],
 "metadata": {
  "accelerator": "TPU",
  "colab": {
   "collapsed_sections": [],
   "name": "Ch1 - Dictionary Sem 1-21-22.ipynb",
   "provenance": []
  },
  "kernelspec": {
   "display_name": "Python 3.10.7 64-bit (microsoft store)",
   "language": "python",
   "name": "python3"
  },
  "language_info": {
   "codemirror_mode": {
    "name": "ipython",
    "version": 3
   },
   "file_extension": ".py",
   "mimetype": "text/x-python",
   "name": "python",
   "nbconvert_exporter": "python",
   "pygments_lexer": "ipython3",
   "version": "3.10.7"
  },
  "vscode": {
   "interpreter": {
    "hash": "8e0303d3b960ee91481b6dcba3f1667bc029c5c0d0d4ad12e44abb021d70bd9e"
   }
  }
 },
 "nbformat": 4,
 "nbformat_minor": 1
}
